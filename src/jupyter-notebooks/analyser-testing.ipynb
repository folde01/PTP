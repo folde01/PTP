{
 "cells": [
  {
   "cell_type": "code",
   "execution_count": 6,
   "metadata": {},
   "outputs": [],
   "source": [
    "from ptp_analyser import Analyser\n",
    "analyser = Analyser()\n",
    "sniffer = analyser.get_sniffer()"
   ]
  },
  {
   "cell_type": "code",
   "execution_count": 7,
   "metadata": {},
   "outputs": [],
   "source": [
    "sniffer.start()"
   ]
  },
  {
   "cell_type": "code",
   "execution_count": 8,
   "metadata": {},
   "outputs": [],
   "source": [
    "sniffer.stop()"
   ]
  },
  {
   "cell_type": "code",
   "execution_count": 9,
   "metadata": {},
   "outputs": [],
   "source": [
    "results = analyser.results()"
   ]
  },
  {
   "cell_type": "code",
   "execution_count": 10,
   "metadata": {},
   "outputs": [
    {
     "data": {
      "text/plain": [
       "[<ptp_connection_status.Stream_Flattened at 0x7f9147d81210>,\n",
       " <ptp_connection_status.Stream_Flattened at 0x7f9147d81250>,\n",
       " <ptp_connection_status.Stream_Flattened at 0x7f9147d81290>,\n",
       " <ptp_connection_status.Stream_Flattened at 0x7f9147d812d0>,\n",
       " <ptp_connection_status.Stream_Flattened at 0x7f9147d81310>,\n",
       " <ptp_connection_status.Stream_Flattened at 0x7f9147d81350>,\n",
       " <ptp_connection_status.Stream_Flattened at 0x7f9147d81390>,\n",
       " <ptp_connection_status.Stream_Flattened at 0x7f9147d813d0>,\n",
       " <ptp_connection_status.Stream_Flattened at 0x7f9147d81410>,\n",
       " <ptp_connection_status.Stream_Flattened at 0x7f9147d81450>,\n",
       " <ptp_connection_status.Stream_Flattened at 0x7f9147d81490>,\n",
       " <ptp_connection_status.Stream_Flattened at 0x7f9147d814d0>,\n",
       " <ptp_connection_status.Stream_Flattened at 0x7f9147d81510>,\n",
       " <ptp_connection_status.Stream_Flattened at 0x7f9147d81550>,\n",
       " <ptp_connection_status.Stream_Flattened at 0x7f9147d81590>,\n",
       " <ptp_connection_status.Stream_Flattened at 0x7f9147d815d0>,\n",
       " <ptp_connection_status.Stream_Flattened at 0x7f9147d81610>,\n",
       " <ptp_connection_status.Stream_Flattened at 0x7f9147d81650>,\n",
       " <ptp_connection_status.Stream_Flattened at 0x7f9147d81690>]"
      ]
     },
     "execution_count": 10,
     "metadata": {},
     "output_type": "execute_result"
    }
   ],
   "source": [
    "results"
   ]
  },
  {
   "cell_type": "code",
   "execution_count": 12,
   "metadata": {},
   "outputs": [
    {
     "data": {
      "text/plain": [
       "['__class__',\n",
       " '__delattr__',\n",
       " '__dict__',\n",
       " '__doc__',\n",
       " '__format__',\n",
       " '__getattribute__',\n",
       " '__hash__',\n",
       " '__init__',\n",
       " '__module__',\n",
       " '__new__',\n",
       " '__reduce__',\n",
       " '__reduce_ex__',\n",
       " '__repr__',\n",
       " '__setattr__',\n",
       " '__sizeof__',\n",
       " '__str__',\n",
       " '__subclasshook__',\n",
       " '__weakref__',\n",
       " 'bytes_to_cli',\n",
       " 'bytes_to_svr',\n",
       " 'cli_ip',\n",
       " 'cli_pt',\n",
       " 'ssl_cipher',\n",
       " 'ssl_cli_ccs',\n",
       " 'ssl_cli_hello',\n",
       " 'ssl_svr_ccs',\n",
       " 'ssl_svr_hello',\n",
       " 'ssl_version',\n",
       " 'svr_ip',\n",
       " 'svr_pt',\n",
       " 'ts_first_pkt',\n",
       " 'ts_last_pkt']"
      ]
     },
     "execution_count": 12,
     "metadata": {},
     "output_type": "execute_result"
    }
   ],
   "source": [
    "dir(results[0])"
   ]
  },
  {
   "cell_type": "code",
   "execution_count": null,
   "metadata": {},
   "outputs": [],
   "source": []
  }
 ],
 "metadata": {
  "kernelspec": {
   "display_name": "Python 2",
   "language": "python",
   "name": "python2"
  },
  "language_info": {
   "codemirror_mode": {
    "name": "ipython",
    "version": 2
   },
   "file_extension": ".py",
   "mimetype": "text/x-python",
   "name": "python",
   "nbconvert_exporter": "python",
   "pygments_lexer": "ipython2",
   "version": "2.7.12"
  }
 },
 "nbformat": 4,
 "nbformat_minor": 2
}
